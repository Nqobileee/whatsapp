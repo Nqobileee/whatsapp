{
 "cells": [
  {
   "cell_type": "code",
   "execution_count": null,
   "metadata": {},
   "outputs": [],
   "source": []
  },
  {
   "cell_type": "code",
   "execution_count": 14,
   "metadata": {},
   "outputs": [
    {
     "name": "stdout",
     "output_type": "stream",
     "text": [
      "Output sheet updated successfully!\n"
     ]
    }
   ],
   "source": [
    "import gspread\n",
    "import pandas as pd\n",
    "\n",
    "gc = gspread.service_account(filename=\"keys.json\")\n",
    "\n",
    "spreadsheet_id = \"1JTHSO1t5IWqDOQxbd24vs_YMghd24ENxf4kbthUcBo8\"\n",
    "spreadsheet = gc.open_by_key(spreadsheet_id)\n",
    "\n",
    "location_sheet = spreadsheet.worksheet(\"Location\") \n",
    "inbox_sheet = spreadsheet.worksheet(\"Inbox\")        \n",
    "output_sheet = spreadsheet.worksheet(\"Output\")    \n",
    "\n",
    "location_data = location_sheet.get_all_records()\n",
    "inbox_data = inbox_sheet.get_all_records()\n",
    "output_data = output_sheet.get_all_records()\n",
    "\n",
    "location_df = pd.DataFrame(location_data)\n",
    "inbox_df = pd.DataFrame(inbox_data)\n",
    "output_df = pd.DataFrame(output_data)\n",
    "\n",
    "\n",
    "if not {\"Location\", \"Booking Number\"}.issubset(location_df.columns):\n",
    "    raise ValueError(\"Location sheet must contain 'Location' and 'Booking Number' columns.\")\n",
    "if not {\"Location\", \"Contact\"}.issubset(inbox_df.columns):\n",
    "    raise ValueError(\"Inbox sheet must contain 'Location' and 'Contact' columns.\")\n",
    "\n",
    "    \n",
    "\n",
    "merged_df = pd.merge(inbox_df, location_df, on=\"Location\", how=\"inner\")\n",
    "\n",
    "\n",
    "if not output_df.empty:\n",
    "    \n",
    "    merged_df = pd.concat([output_df, merged_df], ignore_index=True)\n",
    "    \n",
    "    merged_df = merged_df.drop_duplicates()\n",
    "\n",
    "\n",
    "output_sheet.clear()  \n",
    "output_sheet.update([merged_df.columns.values.tolist()] + merged_df.values.tolist())\n",
    "\n",
    "\n",
    "print(\"Output sheet updated successfully!\")"
   ]
  }
 ],
 "metadata": {
  "kernelspec": {
   "display_name": "Python 3",
   "language": "python",
   "name": "python3"
  },
  "language_info": {
   "codemirror_mode": {
    "name": "ipython",
    "version": 3
   },
   "file_extension": ".py",
   "mimetype": "text/x-python",
   "name": "python",
   "nbconvert_exporter": "python",
   "pygments_lexer": "ipython3",
   "version": "3.12.6"
  }
 },
 "nbformat": 4,
 "nbformat_minor": 2
}
